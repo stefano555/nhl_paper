{
 "cells": [
  {
   "cell_type": "markdown",
   "metadata": {},
   "source": [
    "# Creating Photons from NHLs produced by Pion Zero Decay"
   ]
  },
  {
   "cell_type": "markdown",
   "metadata": {},
   "source": [
    "## First Part: Defining constants and energy distribution of NHLs from Pion Zero"
   ]
  },
  {
   "cell_type": "code",
   "execution_count": 1,
   "metadata": {},
   "outputs": [],
   "source": [
    "import matplotlib.pyplot as plt\n",
    "import numpy as np\n",
    "from random import uniform\n",
    "import pickle"
   ]
  },
  {
   "cell_type": "code",
   "execution_count": 2,
   "metadata": {},
   "outputs": [],
   "source": [
    "#everything is in GeV\n",
    "m_pion = 0.135\n",
    "alpha = 1/137\n",
    "dipole = 5*pow(10,-7)\n",
    "f_pi = 0.092\n",
    "capital_f = pow((4*np.pi*f_pi),-1)\n",
    "m_nhl = 0.035\n",
    "tau=8.4*pow(10,-17) #in seconds\n",
    "conversion=6.58*pow(10,25)\n",
    "factor_gamma=tau*conversion\n",
    "factor = -((1/(2*np.pi*m_pion))*pow(alpha,2)*pow(dipole,2)*pow(capital_f,2))*factor_gamma"
   ]
  },
  {
   "cell_type": "code",
   "execution_count": 3,
   "metadata": {},
   "outputs": [
    {
     "name": "stdout",
     "output_type": "stream",
     "text": [
      "-6.493742068428913e-08\n"
     ]
    }
   ],
   "source": [
    "print(factor)"
   ]
  },
  {
   "cell_type": "code",
   "execution_count": 4,
   "metadata": {},
   "outputs": [],
   "source": [
    "###Equation A.10 from PHYSICAL REVIEW D 98, 115015 (2018)\n",
    "def f(x):\n",
    "    return factor*((np.sqrt(pow(x,2)-pow(m_nhl,2)))*(4*pow(x,2)*pow(m_pion,2)-3*x*m_pion*pow(m_nhl,2)-2*x*pow(m_pion,3)+pow(m_nhl,4)+3*pow(m_pion,2)*pow(m_nhl,2))-pow(m_pion,2)*(4*x-m_pion)*pow(m_nhl,2)*np.arctanh((np.sqrt(pow(x,2)-pow(m_nhl,2)))/x))"
   ]
  },
  {
   "cell_type": "code",
   "execution_count": 5,
   "metadata": {},
   "outputs": [],
   "source": [
    "####being a 3-body decay, I need to fix energy constraints on the NHLs based on the mass\n",
    "def max_energy_nhl(x):\n",
    "    return (pow(m_pion,2)+pow(x,2))/(2*m_pion)"
   ]
  },
  {
   "cell_type": "code",
   "execution_count": 29,
   "metadata": {},
   "outputs": [],
   "source": [
    "min_en_nhl=m_nhl\n",
    "max_en_nhl=max_energy_nhl(m_nhl)"
   ]
  },
  {
   "cell_type": "markdown",
   "metadata": {},
   "source": [
    "## Second Part: Simulating Pion Zero using a Sanford-Wang Distribution"
   ]
  },
  {
   "cell_type": "markdown",
   "metadata": {},
   "source": [
    "You can jump this part and move to part three since I am already giving you the simulated pion zero. "
   ]
  },
  {
   "cell_type": "code",
   "execution_count": 6,
   "metadata": {},
   "outputs": [],
   "source": [
    "###this is the proton beam momentum in GeV\n",
    "p_beam = 8.890"
   ]
  },
  {
   "cell_type": "code",
   "execution_count": 7,
   "metadata": {},
   "outputs": [],
   "source": [
    "######SW costants for pion plus\n",
    "c_1_plus = 220.7\n",
    "c_2_plus = 1.080\n",
    "c_3_plus = 1.000\n",
    "c_4_plus = 1.978\n",
    "c_5_plus = 1.32\n",
    "c_6_plus = 5.572\n",
    "c_7_plus = 0.0868\n",
    "c_8_plus = 9.686\n",
    "c_9_plus = 1.000"
   ]
  },
  {
   "cell_type": "code",
   "execution_count": 8,
   "metadata": {},
   "outputs": [],
   "source": [
    "######SW costants for pion minus\n",
    "c_1_minus = 213.7\n",
    "c_2_minus = 0.9379\n",
    "c_3_minus = 5.4545\n",
    "c_4_minus = 1.210\n",
    "c_5_minus = 1.284\n",
    "c_6_minus = 4.781\n",
    "c_7_minus = 0.07338\n",
    "c_8_minus = 8.329\n",
    "c_9_minus = 1.000"
   ]
  },
  {
   "cell_type": "code",
   "execution_count": 9,
   "metadata": {},
   "outputs": [],
   "source": [
    "###Plotting SW distribution using rejection method as in https://arxiv.org/pdf/1609.01770.pdf appendix H"
   ]
  },
  {
   "cell_type": "code",
   "execution_count": 10,
   "metadata": {},
   "outputs": [],
   "source": [
    "####creating SW distribution sampling theta from 0 to pi therefore w/ Jacobian"
   ]
  },
  {
   "cell_type": "code",
   "execution_count": 11,
   "metadata": {},
   "outputs": [],
   "source": [
    "#pion plus as double function sampling theta\n",
    "#x=angle y=momentum\n",
    "def j_bis(x,y):\n",
    "    return c_1_plus*pow(y,c_2_plus)*(1-(y/p_beam))*np.exp(-c_3_plus*(pow(y,c_4_plus)/(pow(p_beam,c_5_plus)))-c_6_plus*x*(y-c_7_plus*p_beam*(pow(np.cos(x),c_8_plus))))*2*np.pi*np.sin(x)"
   ]
  },
  {
   "cell_type": "code",
   "execution_count": 12,
   "metadata": {},
   "outputs": [],
   "source": [
    "#pion minus as double function sampling theta\n",
    "def k_bis(x,y):\n",
    "    return c_1_minus*pow(y,c_2_minus)*(1-(y/p_beam))*np.exp(-c_3_minus*(pow(y,c_4_minus)/(pow(p_beam,c_5_minus)))-c_6_minus*x*(y-c_7_minus*p_beam*(pow(np.cos(x),c_8_minus))))*np.sin(x)*2*np.pi"
   ]
  },
  {
   "cell_type": "code",
   "execution_count": 13,
   "metadata": {},
   "outputs": [],
   "source": [
    "#pion zero as double function sampling theta\n",
    "def l_bis(x,y):\n",
    "    return (j_bis(x,y)+k_bis(x,y))/2"
   ]
  },
  {
   "cell_type": "code",
   "execution_count": 14,
   "metadata": {},
   "outputs": [],
   "source": [
    "#many couples angle/momentum will be discarded so you need to start with a high number of couples\n",
    "angle_max = []\n",
    "momentum_max = []\n",
    "number_max = 10000000 #10 millions\n",
    "\n",
    "for i in range (number_max):\n",
    "    angle_max.append(uniform(0,np.pi/2))\n",
    "    momentum_max.append(uniform(0,8))"
   ]
  },
  {
   "cell_type": "code",
   "execution_count": 15,
   "metadata": {},
   "outputs": [],
   "source": [
    "#you need to find the max of the function in the given ranges of angle and momentum\n",
    "sw_max_list = []\n",
    "for i in range (number_max):\n",
    "    sw_max_list.append(l_bis(angle_max[i],momentum_max[i]))"
   ]
  },
  {
   "cell_type": "code",
   "execution_count": 16,
   "metadata": {},
   "outputs": [
    {
     "name": "stdout",
     "output_type": "stream",
     "text": [
      "171.42630141904684\n"
     ]
    }
   ],
   "source": [
    "sw_max=max(sw_max_list)\n",
    "print(sw_max)"
   ]
  },
  {
   "cell_type": "code",
   "execution_count": 17,
   "metadata": {},
   "outputs": [],
   "source": [
    "###clear memory from lists I am not using again\n",
    "\n",
    "angle_max = None\n",
    "del angle_max\n",
    "momentum_max = None\n",
    "del momentum_max\n",
    "sw_max_list = None\n",
    "del sw_max_list"
   ]
  },
  {
   "cell_type": "code",
   "execution_count": null,
   "metadata": {},
   "outputs": [],
   "source": [
    "####this is with Jacobian, sampling from angle, and in GeV\n",
    "#many couples angle/momentum will be discarded so you need to start with a high number of couples\n",
    "zero_and_one = None\n",
    "del zero_and_one\n",
    "random_angle = None\n",
    "del random_angle\n",
    "random_momentum = None\n",
    "del random_momentum\n",
    "good_angle = None\n",
    "del good_angle\n",
    "good_momentum = None\n",
    "del good_momentum\n",
    "sw_values = None\n",
    "del sw_values\n",
    "\n",
    "#number=9000000\n",
    "number_pion = 100000000 #100millions\n",
    "zero_and_one = [number_pion]\n",
    "zero_and_one = np.random.random(number_pion)\n",
    "random_angle = []\n",
    "random_momentum = []\n",
    "good_angle = []\n",
    "good_momentum = []\n",
    "sw_values = []\n",
    "\n",
    "for i in range (number_pion):\n",
    "    random_angle.append(uniform(0,np.pi/2))\n",
    "    random_momentum.append(uniform(0,8))\n",
    "    if l_bis(random_angle[i], random_momentum[i])>zero_and_one[i]*sw_max:\n",
    "        good_angle.append(random_angle[i])\n",
    "        good_momentum.append(random_momentum[i])\n",
    "        sw_values.append(l_bis(random_angle[i], random_momentum[i]))"
   ]
  },
  {
   "cell_type": "markdown",
   "metadata": {},
   "source": [
    "## Part Three: Create Pion Zero Four-Momenta, Simulate NHLs and Boost them"
   ]
  },
  {
   "cell_type": "markdown",
   "metadata": {},
   "source": [
    "Since the production of Pion Zero is always identical, the next two lines contain the code to open the pre-made momentum and angle for pion zero. "
   ]
  },
  {
   "cell_type": "code",
   "execution_count": 18,
   "metadata": {},
   "outputs": [],
   "source": [
    "###momentum pion zero\n",
    "with open(r\"C:\\Users\\Lenovo\\Documents\\lavoro\\mit\\2020_10_22\\good_momentum.txt\", \"rb\") as fp:   #Pickling\n",
    "        momentum_pion_zero = pickle.load(fp)"
   ]
  },
  {
   "cell_type": "code",
   "execution_count": 19,
   "metadata": {},
   "outputs": [],
   "source": [
    "###momentum angle\n",
    "with open(r\"C:\\Users\\Lenovo\\Documents\\lavoro\\mit\\2020_10_22\\good_angle.txt\", \"rb\") as fp:   #Pickling\n",
    "        angle_pion_zero = pickle.load(fp)"
   ]
  },
  {
   "cell_type": "code",
   "execution_count": 20,
   "metadata": {},
   "outputs": [],
   "source": [
    "number_particles=len(angle_pion_zero)"
   ]
  },
  {
   "cell_type": "code",
   "execution_count": 16,
   "metadata": {},
   "outputs": [],
   "source": [
    "###Create the momentum vector for the NHLs"
   ]
  },
  {
   "cell_type": "code",
   "execution_count": 25,
   "metadata": {},
   "outputs": [],
   "source": [
    "#create the energy of the Pion Zeros\n",
    "energy_vector_pion_zero = None\n",
    "del energy_vector_pion_zero\n",
    "energy_vector_pion_zero = []\n",
    "for i in range(number_particles):\n",
    "    energy_vector_pion_zero.append(np.sqrt(pow(momentum_pion_zero[i],2)+pow(m_pion,2)))"
   ]
  },
  {
   "cell_type": "code",
   "execution_count": 26,
   "metadata": {},
   "outputs": [],
   "source": [
    "####sample angle phi from 0 to 2*np.pi\n",
    "angle_phi_pion_zero = None\n",
    "del angle_phi_pion_zero\n",
    "angle_phi_pion_zero = []\n",
    "for i in range(number_particles):\n",
    "    angle_phi_pion_zero.append(uniform(0,2*np.pi))"
   ]
  },
  {
   "cell_type": "code",
   "execution_count": 27,
   "metadata": {},
   "outputs": [],
   "source": [
    "####create the four-momentum vector\n",
    "four_momenta_pion_zero = None\n",
    "del four_momenta_pion_zero\n",
    "four_momenta_pion_zero = []\n",
    "for i in range(number_particles):\n",
    "    four_momenta_pion_zero.append((energy_vector_pion_zero[i],momentum_pion_zero[i]*np.cos(angle_phi_pion_zero[i])*np.sin(angle_pion_zero[i]),momentum_pion_zero[i]*np.sin(angle_phi_pion_zero[i])*np.sin(angle_pion_zero[i]),momentum_pion_zero[i]*np.cos(angle_pion_zero[i])))"
   ]
  },
  {
   "cell_type": "code",
   "execution_count": 39,
   "metadata": {},
   "outputs": [],
   "source": [
    "###now I produce NHls with weight given by A10 in the same number of Pion Zeros. Being a stochastic process I have first\n",
    "####to produce the pions"
   ]
  },
  {
   "cell_type": "code",
   "execution_count": 31,
   "metadata": {},
   "outputs": [],
   "source": [
    "#####sampling nhl energy with appropriate kinetic constraints, cos(theta) from -1 to 1, and phi from 0 to 2*pi\n",
    "angle_cos_theta_nhl = None\n",
    "del angle_cos_theta_nhl\n",
    "angle_phi_nhl = None\n",
    "del angle_phi_nhl\n",
    "energy_nhl = None\n",
    "del energy_nhl\n",
    "weight_nhl = None\n",
    "del weight_nhl\n",
    "\n",
    "angle_cos_theta_nhl = []\n",
    "angle_phi_nhl = []\n",
    "energy_nhl = []\n",
    "weight_nhl = []\n",
    "\n",
    "\n",
    "for i in range (number_particles):\n",
    "    angle_cos_theta_nhl.append(uniform(-1,1))\n",
    "    angle_phi_nhl.append(uniform(0,2*np.pi))\n",
    "    energy_nhl.append(uniform(min_en_nhl,max_en_nhl))\n",
    "    weight_nhl.append(f(energy_nhl[i]))"
   ]
  },
  {
   "cell_type": "code",
   "execution_count": 35,
   "metadata": {},
   "outputs": [],
   "source": [
    "momentum_nhl = None\n",
    "del momentum_nhl \n",
    "\n",
    "momentum_nhl = []\n",
    "\n",
    "for i in range(number_particles):\n",
    "    momentum_nhl.append(np.sqrt(pow(energy_nhl[i],2)-pow(m_nhl,2)))"
   ]
  },
  {
   "cell_type": "code",
   "execution_count": 36,
   "metadata": {},
   "outputs": [],
   "source": [
    "four_momenta_nhl = None\n",
    "del four_momenta_nhl\n",
    "\n",
    "four_momenta_nhl = []\n",
    "\n",
    "for i in range(number_particles):\n",
    "    four_momenta_nhl.append((energy_nhl[i],momentum_nhl[i]*np.cos(angle_phi_nhl[i])*np.sin(np.arccos(angle_cos_theta_nhl[i])),momentum_nhl[i]*np.sin(angle_phi_nhl[i])*np.sin(np.arccos(angle_cos_theta_nhl[i])),momentum_nhl[i]*angle_cos_theta_nhl[i]))"
   ]
  },
  {
   "cell_type": "code",
   "execution_count": 26,
   "metadata": {},
   "outputs": [],
   "source": [
    "####Boost NHLs in lab frame with boosting coming from pion zero"
   ]
  },
  {
   "cell_type": "code",
   "execution_count": 38,
   "metadata": {},
   "outputs": [],
   "source": [
    "Iway = 1"
   ]
  },
  {
   "cell_type": "code",
   "execution_count": 40,
   "metadata": {},
   "outputs": [],
   "source": [
    "ptot_vector = 0\n",
    "del ptot_vector\n",
    "\n",
    "ptot_vector = []\n",
    "\n",
    "for i in range(number_particles):\n",
    "    ptot_vector.append(np.sqrt(max(0.0,pow(four_momenta_pion_zero[i][1],2)+pow(four_momenta_pion_zero[i][2],2)+pow(four_momenta_pion_zero[i][3],2))))"
   ]
  },
  {
   "cell_type": "code",
   "execution_count": 41,
   "metadata": {},
   "outputs": [],
   "source": [
    "for i in range(number_particles):\n",
    "    if(ptot_vector[i]<0.0):\n",
    "        print('ERROR')"
   ]
  },
  {
   "cell_type": "code",
   "execution_count": 42,
   "metadata": {},
   "outputs": [],
   "source": [
    "g_vector = 0\n",
    "del g_vector\n",
    "gb_vector = 0\n",
    "del gb_vector\n",
    "\n",
    "g_vector = []\n",
    "gb_vector = []\n",
    "\n",
    "for i in range(number_particles):\n",
    "    g_vector.append(four_momenta_pion_zero[i][0]/m_pion)\n",
    "    gb_vector.append(float(Iway)*ptot_vector[i]/m_pion)"
   ]
  },
  {
   "cell_type": "code",
   "execution_count": 43,
   "metadata": {},
   "outputs": [],
   "source": [
    "pp_vector = 0\n",
    "del pp_vector\n",
    "pp_vector = []\n",
    "\n",
    "for i in range(number_particles):\n",
    "    pp_vector.append((four_momenta_pion_zero[i][1]*four_momenta_nhl[i][1] + four_momenta_pion_zero[i][2]*four_momenta_nhl[i][2] + four_momenta_pion_zero[i][3]*four_momenta_nhl[i][3])/ptot_vector[i])"
   ]
  },
  {
   "cell_type": "code",
   "execution_count": 48,
   "metadata": {},
   "outputs": [],
   "source": [
    "nhl_boosted = 0\n",
    "del nhl_boosted\n",
    "nhl_boosted = []\n",
    "\n",
    "for i in range(number_particles):\n",
    "    nhl_boosted.append((g_vector[i]*four_momenta_nhl[i][0]+gb_vector[i]*pp_vector[i],(gb_vector[i]*four_momenta_nhl[i][0]+(g_vector[i]-1.)*pp_vector[i])*four_momenta_pion_zero[i][1]/ptot_vector[i] + four_momenta_nhl[i][1],(gb_vector[i]*four_momenta_nhl[i][0]+(g_vector[i]-1.)*pp_vector[i])*four_momenta_pion_zero[i][2]/ptot_vector[i] + four_momenta_nhl[i][2],(gb_vector[i]*four_momenta_nhl[i][0]+(g_vector[i]-1.)*pp_vector[i])*four_momenta_pion_zero[i][3]/ptot_vector[i] + four_momenta_nhl[i][3]))"
   ]
  },
  {
   "cell_type": "code",
   "execution_count": 58,
   "metadata": {},
   "outputs": [],
   "source": [
    "\n",
    "energy_nhl_boosted = 0\n",
    "del energy_nhl_boosted\n",
    "energy_pion_zero = 0\n",
    "del energy_pion_zero\n",
    "\n",
    "\n",
    "energy_nhl_boosted = []\n",
    "energy_pion_zero = []\n",
    "\n",
    "for i in range(number_particles):\n",
    "\n",
    "    energy_nhl_boosted.append(nhl_boosted[i][0])\n",
    "    energy_pion_zero.append(four_momenta_pion_zero[i][0])#pion_zero"
   ]
  },
  {
   "cell_type": "markdown",
   "metadata": {},
   "source": [
    "## Part Four: Simulating Photons and Boosting them in NHLs' Lab Frame"
   ]
  },
  {
   "cell_type": "code",
   "execution_count": 51,
   "metadata": {},
   "outputs": [],
   "source": [
    "#####simulating photons"
   ]
  },
  {
   "cell_type": "code",
   "execution_count": 50,
   "metadata": {},
   "outputs": [],
   "source": [
    "#####sampling energy m_nhl/2, cos(theta) from -1 to 1, and phi from 0 to 2*pi\n",
    "angle_cos_theta_photon = None\n",
    "del angle_cos_theta_photon\n",
    "angle_phi_photon = None\n",
    "del angle_phi_photon\n",
    "\n",
    "\n",
    "\n",
    "angle_cos_theta_photon = []\n",
    "angle_phi_photon = []\n",
    "energy_photon = m_nhl/2 #GeV\n",
    "\n",
    "\n",
    "#number_photon = 1000\n",
    "\n",
    "for i in range (number_particles):\n",
    "    angle_cos_theta_photon.append(uniform(-1,1))\n",
    "    angle_phi_photon.append(uniform(0,2*np.pi))"
   ]
  },
  {
   "cell_type": "code",
   "execution_count": 51,
   "metadata": {},
   "outputs": [],
   "source": [
    "four_momenta_photon = None\n",
    "del four_momenta_photon\n",
    "\n",
    "four_momenta_photon = []\n",
    "\n",
    "for i in range(number_particles):\n",
    "    four_momenta_photon.append((energy_photon,energy_photon*np.cos(angle_phi_photon[i])*np.sin(np.arccos(angle_cos_theta_photon[i])),energy_photon*np.sin(angle_phi_photon[i])*np.sin(np.arccos(angle_cos_theta_photon[i])),energy_photon*angle_cos_theta_photon[i]))"
   ]
  },
  {
   "cell_type": "code",
   "execution_count": 54,
   "metadata": {},
   "outputs": [],
   "source": [
    "#### boosting photons produced by decay NHL"
   ]
  },
  {
   "cell_type": "code",
   "execution_count": 52,
   "metadata": {},
   "outputs": [],
   "source": [
    "ptot_vector_2 = 0\n",
    "del ptot_vector_2\n",
    "\n",
    "ptot_vector_2 = []\n",
    "\n",
    "for i in range(number_particles):\n",
    "    ptot_vector_2.append(np.sqrt(max(0.0,pow(nhl_boosted[i][1],2)+pow(nhl_boosted[i][2],2)+pow(nhl_boosted[i][3],2))))"
   ]
  },
  {
   "cell_type": "code",
   "execution_count": 42,
   "metadata": {},
   "outputs": [],
   "source": [
    "for i in range(number_particles):\n",
    "    if(ptot_vector_2[i]<0.0):\n",
    "        print('ERROR')"
   ]
  },
  {
   "cell_type": "code",
   "execution_count": 53,
   "metadata": {},
   "outputs": [],
   "source": [
    "g_vector_2 = 0\n",
    "del g_vector_2\n",
    "gb_vector_2 = 0\n",
    "del gb_vector_2\n",
    "\n",
    "g_vector_2 = []\n",
    "gb_vector_2 = []\n",
    "\n",
    "for i in range(number_particles):\n",
    "    g_vector_2.append(nhl_boosted[i][0]/m_nhl)\n",
    "    gb_vector_2.append(float(Iway)*ptot_vector_2[i]/m_nhl)"
   ]
  },
  {
   "cell_type": "code",
   "execution_count": 54,
   "metadata": {},
   "outputs": [],
   "source": [
    "pp_vector_2 = 0\n",
    "del pp_vector_2\n",
    "pp_vector_2 = []\n",
    "\n",
    "for i in range(number_particles):\n",
    "    pp_vector_2.append((nhl_boosted[i][1]*four_momenta_photon[i][1] + nhl_boosted[i][2]*four_momenta_photon[i][2] + nhl_boosted[i][3]*four_momenta_photon[i][3])/ptot_vector_2[i])"
   ]
  },
  {
   "cell_type": "code",
   "execution_count": 56,
   "metadata": {},
   "outputs": [],
   "source": [
    "photon_boosted = 0\n",
    "del photon_boosted\n",
    "photon_boosted = []\n",
    "\n",
    "for i in range(number_particles):\n",
    "    photon_boosted.append((g_vector_2[i]*four_momenta_photon[i][0]+gb_vector_2[i]*pp_vector_2[i],(gb_vector_2[i]*four_momenta_photon[i][0]+(g_vector_2[i]-1.)*pp_vector_2[i])*nhl_boosted[i][1]/ptot_vector_2[i] + four_momenta_photon[i][1],(gb_vector_2[i]*four_momenta_photon[i][0]+(g_vector_2[i]-1.)*pp_vector_2[i])*nhl_boosted[i][2]/ptot_vector_2[i] + four_momenta_photon[i][2],(gb_vector_2[i]*four_momenta_photon[i][0]+(g_vector_2[i]-1.)*pp_vector_2[i])*nhl_boosted[i][3]/ptot_vector_2[i] + four_momenta_photon[i][3]))"
   ]
  },
  {
   "cell_type": "markdown",
   "metadata": {},
   "source": [
    "## Part Five: Work Out the Weight related to the travel of NHLs into MB"
   ]
  },
  {
   "cell_type": "code",
   "execution_count": 69,
   "metadata": {},
   "outputs": [],
   "source": [
    "def l_decay_function(x):\n",
    "    return 396*(pow((0.050/m_nhl),4))*((pow(10,-6))/dipole)*(x/0.999)"
   ]
  },
  {
   "cell_type": "code",
   "execution_count": 70,
   "metadata": {},
   "outputs": [],
   "source": [
    "momentum_nhl_decay = None\n",
    "del momentum_nhl_decay\n",
    "momentum_nhl_decay = []\n",
    "for i in range(number_particles):\n",
    "    momentum_nhl_decay.append(np.sqrt(pow(energy_nhl_boosted[i],2)-pow(m_nhl,2)))"
   ]
  },
  {
   "cell_type": "code",
   "execution_count": 71,
   "metadata": {},
   "outputs": [],
   "source": [
    "l_decay = None\n",
    "del l_decay\n",
    "l_decay=[]\n",
    "for i in range(number_particles):\n",
    "    l_decay.append(l_decay_function(momentum_nhl_decay[i]))"
   ]
  },
  {
   "cell_type": "code",
   "execution_count": 72,
   "metadata": {},
   "outputs": [],
   "source": [
    "def probability_function(x,y,z):#xlenter, ylexit,zledecay\n",
    "    return (np.exp(-x/z))-(np.exp(-y/z))"
   ]
  },
  {
   "cell_type": "code",
   "execution_count": 65,
   "metadata": {},
   "outputs": [],
   "source": [
    "####line sphere intersection"
   ]
  },
  {
   "cell_type": "code",
   "execution_count": 66,
   "metadata": {},
   "outputs": [],
   "source": [
    "#####step 1. make all momentum vectors unitary vectors"
   ]
  },
  {
   "cell_type": "code",
   "execution_count": 73,
   "metadata": {},
   "outputs": [],
   "source": [
    "nhl_boosted_x = 0\n",
    "del nhl_boosted_x\n",
    "nhl_boosted_y = 0\n",
    "del nhl_boosted_y\n",
    "nhl_boosted_z = 0\n",
    "del nhl_boosted_z\n",
    "nhl_boosted_x = []\n",
    "nhl_boosted_y = []\n",
    "nhl_boosted_z = []\n",
    "\n",
    "for i in range(number_particles):\n",
    "    nhl_boosted_x.append(nhl_boosted[i][1])\n",
    "    nhl_boosted_y.append(nhl_boosted[i][2])\n",
    "    nhl_boosted_z.append(nhl_boosted[i][3])\n",
    "    \n",
    "nhl_boosted_max_x = max(nhl_boosted_x)\n",
    "nhl_boosted_max_y = max(nhl_boosted_y)\n",
    "nhl_boosted_max_z = max(nhl_boosted_z)\n",
    "nhl_boosted_min_x = min(nhl_boosted_x)\n",
    "nhl_boosted_min_y = min(nhl_boosted_y)\n",
    "nhl_boosted_min_z = min(nhl_boosted_z)"
   ]
  },
  {
   "cell_type": "code",
   "execution_count": 74,
   "metadata": {},
   "outputs": [],
   "source": [
    "def norm_vect(x,y,z):\n",
    "    return np.sqrt(pow(x,2)+pow(y,2)+pow(z,2))"
   ]
  },
  {
   "cell_type": "code",
   "execution_count": 76,
   "metadata": {},
   "outputs": [],
   "source": [
    "norm_vect_list = None\n",
    "del norm_vect_list\n",
    "norm_vect_list = []\n",
    "\n",
    "for i in range(number_particles):\n",
    "    norm_vect_list.append(norm_vect(nhl_boosted_x[i],nhl_boosted_y[i],nhl_boosted_z[i]))"
   ]
  },
  {
   "cell_type": "code",
   "execution_count": 77,
   "metadata": {},
   "outputs": [],
   "source": [
    "####rapid check all vectors are normalised\n",
    "\n",
    "for i in range(number_particles):\n",
    "    if (np.sqrt(pow(nhl_boosted_x[i],2)+pow(nhl_boosted_y[i],2)+pow(nhl_boosted_z[i],2))/norm_vect_list[i])<1:\n",
    "        print(\"Error\")"
   ]
  },
  {
   "cell_type": "code",
   "execution_count": 78,
   "metadata": {},
   "outputs": [],
   "source": [
    "cos_theta_boosted_gamma = None\n",
    "del cos_theta_boosted_gamma\n",
    "\n",
    "cos_theta_boosted_gamma = []\n",
    "\n",
    "for i in range(number_particles):\n",
    "    cos_theta_boosted_gamma.append(np.arccos(nhl_boosted_z[i]/norm_vect_list[i]))"
   ]
  },
  {
   "cell_type": "code",
   "execution_count": 79,
   "metadata": {},
   "outputs": [],
   "source": [
    "###calculate delta as described by wikipedia\n",
    "\n",
    "##centre of line set at (0,0,0)\n",
    "###centre of MB set at (0,0,541)\n",
    "r_MB=5\n",
    "length_from_MB=541\n",
    "\n",
    "def delta(z,N):\n",
    "    return pow(z*length_from_MB/N,2)-(pow(length_from_MB,2)-pow(r_MB,2))"
   ]
  },
  {
   "cell_type": "code",
   "execution_count": 80,
   "metadata": {},
   "outputs": [],
   "source": [
    "delta_list = None\n",
    "del delta_list\n",
    "delta_list = []\n",
    "for i in range(number_particles):\n",
    "    delta_list.append(delta(nhl_boosted_z[i],norm_vect_list[i]))"
   ]
  },
  {
   "cell_type": "code",
   "execution_count": 82,
   "metadata": {},
   "outputs": [],
   "source": [
    "def l_enter(z,N,D):\n",
    "    return z*length_from_MB/N-D"
   ]
  },
  {
   "cell_type": "code",
   "execution_count": 83,
   "metadata": {},
   "outputs": [],
   "source": [
    "def l_exit(z,N,D):\n",
    "    return z*length_from_MB/N+D"
   ]
  },
  {
   "cell_type": "code",
   "execution_count": 84,
   "metadata": {},
   "outputs": [
    {
     "name": "stdout",
     "output_type": "stream",
     "text": [
      "30376\n",
      "2004857\n"
     ]
    }
   ],
   "source": [
    "l_enter_list=None\n",
    "del l_enter_list\n",
    "\n",
    "l_enter_list = []\n",
    "\n",
    "for i in range(number_particles):\n",
    "    if(delta_list[i])<0:\n",
    "        l_enter_list.append(0)\n",
    "    elif(delta_list[i]==0):\n",
    "        l_enter_list.append(0)      \n",
    "    else:\n",
    "        l_enter_list.append(l_enter(nhl_boosted_z[i],norm_vect_list[i],np.sqrt(delta_list[i])))\n",
    "        \n",
    "#for y in range(number_particles):\n",
    "#    if nhl_boosted_z[y]<0 and delta_list[y]>0:\n",
    "#        l_enter_list[y]=0\n",
    "#        print(y)"
   ]
  },
  {
   "cell_type": "code",
   "execution_count": 85,
   "metadata": {},
   "outputs": [],
   "source": [
    "l_exit_list=None\n",
    "del l_exit_list\n",
    "\n",
    "l_exit_list = []\n",
    "\n",
    "for i in range(number_particles):\n",
    "    if(delta_list[i])<0:\n",
    "        l_exit_list.append(0)\n",
    "    elif(delta_list[i]==0):\n",
    "        l_esit_list.append(0)\n",
    "    else:\n",
    "        l_exit_list.append(l_exit(nhl_boosted_z[i],norm_vect_list[i],np.sqrt(delta_list[i])))\n",
    "        \n",
    "#for y in range(number_particles):\n",
    "#    if nhl_boosted_z[y]<0 and delta_list[y]>0:\n",
    "#        l_exit_list[y]=0\n",
    "#        print(y)"
   ]
  },
  {
   "cell_type": "code",
   "execution_count": 86,
   "metadata": {},
   "outputs": [],
   "source": [
    "probability_list=None\n",
    "del probability_list\n",
    "probability_list = []\n",
    "\n",
    "for i in range(number_particles):\n",
    "    probability_list.append(probability_function(l_enter_list[i],l_exit_list[i],l_decay[i]))"
   ]
  },
  {
   "cell_type": "code",
   "execution_count": 87,
   "metadata": {},
   "outputs": [],
   "source": [
    "prob_positive=None\n",
    "del prob_positive\n",
    "\n",
    "prob_positive = []\n",
    "\n",
    "for i in range(len(probability_list)):\n",
    "    if probability_list[i]>0:\n",
    "        prob_positive.append(probability_list[i])"
   ]
  },
  {
   "cell_type": "code",
   "execution_count": 88,
   "metadata": {},
   "outputs": [],
   "source": [
    "pion_zero_produced = 1.17*pow(10,21)"
   ]
  },
  {
   "cell_type": "code",
   "execution_count": 89,
   "metadata": {},
   "outputs": [],
   "source": [
    "normalisation_const = pion_zero_produced/number_particles"
   ]
  },
  {
   "cell_type": "markdown",
   "metadata": {},
   "source": [
    "## Part Six: I select only events with probability>0"
   ]
  },
  {
   "cell_type": "code",
   "execution_count": 91,
   "metadata": {},
   "outputs": [],
   "source": [
    "mini_theta = None\n",
    "del mini_theta\n",
    "\n",
    "mini_energy = None\n",
    "del mini_energy\n",
    "\n",
    "multi_weight_good = None\n",
    "del multi_weight_good\n",
    "multi_weight_good = []\n",
    "\n",
    "mini_theta = []\n",
    "mini_energy = []\n",
    "\n",
    "for i in range(number_particles):\n",
    "    if probability_list[i]>0:\n",
    "        mini_theta.append(cos_theta_boosted_gamma[i])\n",
    "        mini_energy.append(energy_nhl_boosted[i])\n",
    "        multi_weight_good.append(weight_nhl[i]*probability_list[i]*normalisation_const)"
   ]
  },
  {
   "cell_type": "code",
   "execution_count": 92,
   "metadata": {},
   "outputs": [],
   "source": [
    "####check the distance travelled by nhls inside MB dector\n",
    "l_through = None\n",
    "del l_through\n",
    "\n",
    "l_through = []\n",
    "\n",
    "for i in range(number_particles):\n",
    "    if probability_list[i]>0:\n",
    "        l_through.append(l_exit_list[i]-l_enter_list[i])"
   ]
  },
  {
   "cell_type": "code",
   "execution_count": 94,
   "metadata": {},
   "outputs": [],
   "source": [
    "energy_nhl_good = None\n",
    "del energy_nhl_good\n",
    "\n",
    "energy_nhl_good = []\n",
    "\n",
    "\n",
    "good_energy_photon = None\n",
    "del good_energy_photon\n",
    "\n",
    "good_energy_photon = []\n",
    "\n",
    "for i in range(number_particles):\n",
    "    if probability_list[i]>0:\n",
    "        energy_nhl_good.append(energy_nhl_boosted[i])\n",
    "        good_energy_photon.append(photon_boosted[i][0])"
   ]
  },
  {
   "cell_type": "code",
   "execution_count": 95,
   "metadata": {},
   "outputs": [],
   "source": [
    "photon_boosted_x = 0\n",
    "del photon_boosted_x\n",
    "photon_boosted_y = 0\n",
    "del photon_boosted_y\n",
    "photon_boosted_z = 0\n",
    "del photon_boosted_z\n",
    "photon_boosted_x = []\n",
    "photon_boosted_y = []\n",
    "photon_boosted_z = []\n",
    "\n",
    "for i in range(len(photon_boosted)):\n",
    "    photon_boosted_x.append(photon_boosted[i][1])\n",
    "    photon_boosted_y.append(photon_boosted[i][2])\n",
    "    photon_boosted_z.append(photon_boosted[i][3])"
   ]
  },
  {
   "cell_type": "code",
   "execution_count": 96,
   "metadata": {},
   "outputs": [],
   "source": [
    "angle_photon = None\n",
    "del angle_photon\n",
    "\n",
    "angle_photon = []\n",
    "\n",
    "for i in range(number_particles):\n",
    "    if probability_list[i]>0:\n",
    "        angle_photon.append(np.arccos(photon_boosted_z[i]/norm_vect(photon_boosted_x[i],photon_boosted_y[i],photon_boosted_z[i])))"
   ]
  },
  {
   "cell_type": "code",
   "execution_count": 97,
   "metadata": {},
   "outputs": [],
   "source": [
    "cos_angle_photon = None\n",
    "del cos_angle_photon\n",
    "\n",
    "cos_angle_photon = []\n",
    "\n",
    "for i in range(len(angle_photon)):\n",
    "    cos_angle_photon.append(np.cos(angle_photon[i]))"
   ]
  },
  {
   "cell_type": "markdown",
   "metadata": {},
   "source": [
    "## Part Seven: Smearing Energy and Angle of the Photons"
   ]
  },
  {
   "cell_type": "code",
   "execution_count": 98,
   "metadata": {},
   "outputs": [],
   "source": [
    "def fractional_e(x):\n",
    "     return 23.311878*pow(x*1000,-0.970857)"
   ]
  },
  {
   "cell_type": "code",
   "execution_count": 99,
   "metadata": {},
   "outputs": [],
   "source": [
    "### using mike suggestions, this is the sigma for the energy\n",
    "def sigma_e(x):\n",
    "     return fractional_e(x)*x"
   ]
  },
  {
   "cell_type": "code",
   "execution_count": 100,
   "metadata": {},
   "outputs": [],
   "source": [
    "def sigma_theta(x):\n",
    "    return (2.635114*pow(10,-6)*pow(x*1000,2))-(1.672139*pow(10,-3)*x*1000)+(2.990610*pow(10,-1))"
   ]
  },
  {
   "cell_type": "code",
   "execution_count": 102,
   "metadata": {},
   "outputs": [],
   "source": [
    "sigma_e_list = None\n",
    "del sigma_e_list \n",
    "sigma_e_list = []\n",
    "sigma_theta_list = None\n",
    "del sigma_theta_list \n",
    "sigma_theta_list = []\n",
    "fractional_list = []\n",
    "\n",
    "for i in range(len(mini_theta)):\n",
    "    sigma_e_list.append(sigma_e(good_energy_photon[i]))\n",
    "    sigma_theta_list.append(sigma_theta(good_energy_photon[i]))\n",
    "    fractional_list.append(fractional_e(good_energy_photon[i]))"
   ]
  },
  {
   "cell_type": "code",
   "execution_count": 104,
   "metadata": {},
   "outputs": [],
   "source": [
    "evis_rec = None\n",
    "del evis_rec\n",
    "evis_rec = []\n",
    "theta_rec = None\n",
    "del theta_rec\n",
    "theta_rec = []\n",
    "cos_theta_rec = None\n",
    "del cos_theta_rec\n",
    "cos_theta_rec = []\n",
    "\n",
    "for i in range(len(mini_theta)):\n",
    "    evis_rec.append(np.random.normal(good_energy_photon[i],sigma_e_list[i]))\n",
    "    theta_rec.append(np.random.normal(angle_photon[i],sigma_theta_list[i]))\n",
    "    cos_theta_rec.append(np.cos(theta_rec[i]))"
   ]
  },
  {
   "cell_type": "code",
   "execution_count": 107,
   "metadata": {},
   "outputs": [
    {
     "data": {
      "image/png": "[encoded data removed]",
      "text/plain": [
       "<Figure size 432x288 with 1 Axes>"
      ]
     },
     "metadata": {
      "needs_background": "light"
     },
     "output_type": "display_data"
    }
   ],
   "source": [
    "bins = np.linspace(0.2, 0.4, 6)#0.15\n",
    "n, bins2, patches = plt.hist(evis_rec, bins, alpha=0.5, color='r', weights=multi_weight_good, label='Photons - Smeared')"
   ]
  },
  {
   "cell_type": "code",
   "execution_count": 108,
   "metadata": {},
   "outputs": [],
   "source": [
    "integral_histo_photon = 0\n",
    "for i in range(len(n)):\n",
    "    integral_histo_photon =  integral_histo_photon + n[i]"
   ]
  },
  {
   "cell_type": "code",
   "execution_count": 109,
   "metadata": {},
   "outputs": [],
   "source": [
    "number_of_photons = integral_histo_photon"
   ]
  },
  {
   "cell_type": "code",
   "execution_count": 110,
   "metadata": {},
   "outputs": [
    {
     "name": "stdout",
     "output_type": "stream",
     "text": [
      "67.17105584039288\n"
     ]
    }
   ],
   "source": [
    "print(number_of_photons)"
   ]
  },
  {
   "cell_type": "code",
   "execution_count": null,
   "metadata": {},
   "outputs": [],
   "source": []
  }
 ],
 "metadata": {
  "kernelspec": {
   "display_name": "Python 3",
   "language": "python",
   "name": "python3"
  },
  "language_info": {
   "codemirror_mode": {
    "name": "ipython",
    "version": 3
   },
   "file_extension": ".py",
   "mimetype": "text/x-python",
   "name": "python",
   "nbconvert_exporter": "python",
   "pygments_lexer": "ipython3",
   "version": "3.8.3"
  }
 },
 "nbformat": 4,
 "nbformat_minor": 4
}
