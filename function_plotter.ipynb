{
 "cells": [
  {
   "cell_type": "code",
   "execution_count": null,
   "metadata": {},
   "outputs": [],
   "source": [
    "###This code is to simulate Pion with the Sanford-Wang double differential cross section"
   ]
  },
  {
   "cell_type": "code",
   "execution_count": 1,
   "metadata": {},
   "outputs": [],
   "source": [
    "import matplotlib.pyplot as plt\n",
    "import numpy as np\n",
    "from random import uniform"
   ]
  },
  {
   "cell_type": "code",
   "execution_count": 2,
   "metadata": {},
   "outputs": [],
   "source": [
    "###this is the proton beam momentum in GeV\n",
    "p_beam = 8.890"
   ]
  },
  {
   "cell_type": "code",
   "execution_count": 3,
   "metadata": {},
   "outputs": [],
   "source": [
    "###mass pion zero in GeV\n",
    "pion_mass = 0.135"
   ]
  },
  {
   "cell_type": "code",
   "execution_count": 4,
   "metadata": {},
   "outputs": [],
   "source": [
    "######SW costants for pion plus\n",
    "c_1_plus = 220.7\n",
    "c_2_plus = 1.080\n",
    "c_3_plus = 1.000\n",
    "c_4_plus = 1.978\n",
    "c_5_plus = 1.32\n",
    "c_6_plus = 5.572\n",
    "c_7_plus = 0.0868\n",
    "c_8_plus = 9.686\n",
    "c_9_plus = 1.000"
   ]
  },
  {
   "cell_type": "code",
   "execution_count": 5,
   "metadata": {},
   "outputs": [],
   "source": [
    "######SW costants for pion minus\n",
    "c_1_minus = 213.7\n",
    "c_2_minus = 0.9379\n",
    "c_3_minus = 5.4545\n",
    "c_4_minus = 1.210\n",
    "c_5_minus = 1.284\n",
    "c_6_minus = 4.781\n",
    "c_7_minus = 0.07338\n",
    "c_8_minus = 8.329\n",
    "c_9_minus = 1.000"
   ]
  },
  {
   "cell_type": "code",
   "execution_count": 6,
   "metadata": {},
   "outputs": [],
   "source": [
    "###Plotting SW distribution using rejection method as in https://arxiv.org/pdf/1609.01770.pdf appendix H"
   ]
  },
  {
   "cell_type": "code",
   "execution_count": 7,
   "metadata": {},
   "outputs": [],
   "source": [
    "####creating SW distribution sampling theta from 0 to pi therefore w/ Jacobian"
   ]
  },
  {
   "cell_type": "code",
   "execution_count": 8,
   "metadata": {},
   "outputs": [],
   "source": [
    "#pion plus as double function sampling theta\n",
    "#x=angle y=momentum\n",
    "def j_bis(x,y):\n",
    "    return c_1_plus*pow(y,c_2_plus)*(1-(y/p_beam))*np.exp(-c_3_plus*(pow(y,c_4_plus)/(pow(p_beam,c_5_plus)))-c_6_plus*x*(y-c_7_plus*p_beam*(pow(np.cos(x),c_8_plus))))*2*np.pi*np.sin(x)"
   ]
  },
  {
   "cell_type": "code",
   "execution_count": 9,
   "metadata": {},
   "outputs": [],
   "source": [
    "#pion minus as double function sampling theta\n",
    "def k_bis(x,y):\n",
    "    return c_1_minus*pow(y,c_2_minus)*(1-(y/p_beam))*np.exp(-c_3_minus*(pow(y,c_4_minus)/(pow(p_beam,c_5_minus)))-c_6_minus*x*(y-c_7_minus*p_beam*(pow(np.cos(x),c_8_minus))))*np.sin(x)*2*np.pi"
   ]
  },
  {
   "cell_type": "code",
   "execution_count": 10,
   "metadata": {},
   "outputs": [],
   "source": [
    "#pion zero as double function sampling theta\n",
    "def l_bis(x,y):\n",
    "    return (j_bis(x,y)+k_bis(x,y))/2"
   ]
  },
  {
   "cell_type": "code",
   "execution_count": 11,
   "metadata": {},
   "outputs": [],
   "source": [
    "angle_max = []\n",
    "momentum_max = []\n",
    "number_max = 10000000 #10 millions\n",
    "\n",
    "for i in range (number_max):\n",
    "    angle_max.append(uniform(0,np.pi/2))\n",
    "    momentum_max.append(uniform(0,8))\n"
   ]
  },
  {
   "cell_type": "code",
   "execution_count": 13,
   "metadata": {},
   "outputs": [],
   "source": [
    "sw_max_list = []\n",
    "for i in range (number_max):\n",
    "    sw_max_list.append(l_bis(angle_max[i],momentum_max[i]))"
   ]
  },
  {
   "cell_type": "code",
   "execution_count": 14,
   "metadata": {},
   "outputs": [
    {
     "name": "stdout",
     "output_type": "stream",
     "text": [
      "171.4255785585637\n"
     ]
    }
   ],
   "source": [
    "sw_max=max(sw_max_list)\n",
    "print(sw_max)"
   ]
  },
  {
   "cell_type": "code",
   "execution_count": 15,
   "metadata": {},
   "outputs": [],
   "source": [
    "###clear memory from lists I am now using again\n",
    "\n",
    "angle_max = None\n",
    "del angle_max\n",
    "momentum_max = None\n",
    "del momentum_max\n",
    "sw_max_list = None\n",
    "del sw_max_list"
   ]
  },
  {
   "cell_type": "code",
   "execution_count": null,
   "metadata": {},
   "outputs": [],
   "source": [
    "####this is without Jacobian, sampling from cosine, and in GeV\n",
    "zero_and_one = None\n",
    "del zero_and_one\n",
    "random_angle = None\n",
    "del random_angle\n",
    "random_momentum = None\n",
    "del random_momentum\n",
    "good_angle = None\n",
    "del good_angle\n",
    "good_momentum = None\n",
    "del good_momentum\n",
    "sw_values = None\n",
    "del sw_values\n",
    "\n",
    "#number=9000000\n",
    "number = 100000000 #10 millions\n",
    "zero_and_one = [number]\n",
    "zero_and_one = np.random.random(number)\n",
    "random_angle = []\n",
    "random_momentum = []\n",
    "good_angle = []\n",
    "good_momentum = []\n",
    "sw_values = []\n",
    "\n",
    "for i in range (number):\n",
    "    random_angle.append(uniform(0,np.pi/2))\n",
    "    random_momentum.append(uniform(0,8))\n",
    "    if l_bis(random_angle[i], random_momentum[i])>zero_and_one[i]*sw_max:\n",
    "        good_angle.append(random_angle[i])\n",
    "        good_momentum.append(random_momentum[i])\n",
    "        sw_values.append(l_bis(random_angle[i], random_momentum[i]))"
   ]
  },
  {
   "cell_type": "code",
   "execution_count": 28,
   "metadata": {},
   "outputs": [
    {
     "name": "stdout",
     "output_type": "stream",
     "text": [
      "7183961\n"
     ]
    }
   ],
   "source": [
    "print(len(good_angle))"
   ]
  },
  {
   "cell_type": "code",
   "execution_count": 29,
   "metadata": {},
   "outputs": [
    {
     "data": {
      "image/png": "[encoded data removed]",
      "text/plain": [
       "<Figure size 1440x1152 with 2 Axes>"
      ]
     },
     "metadata": {
      "needs_background": "light"
     },
     "output_type": "display_data"
    }
   ],
   "source": [
    "from matplotlib import cm\n",
    "plt.figure(figsize=(20,16))\n",
    "h = plt.hist2d(good_momentum, good_angle, bins=[110,110],cmin=0.000001,cmap='jet')\n",
    "plt.colorbar(h[3])\n",
    "plt.title(\"SW Distribution for Pion Zero\",fontsize=22)\n",
    "plt.xlabel(\"Momentum (GeV/c)\",fontsize=22)\n",
    "plt.ylabel(\"Angle (rad)\",fontsize=22)\n",
    "plt.xticks(fontsize=20)\n",
    "plt.yticks(fontsize=20)\n",
    "plt.show()"
   ]
  },
  {
   "cell_type": "code",
   "execution_count": null,
   "metadata": {},
   "outputs": [],
   "source": [
    "###Create the momentum vector"
   ]
  },
  {
   "cell_type": "code",
   "execution_count": 33,
   "metadata": {},
   "outputs": [],
   "source": [
    "energy_vector = []\n",
    "###convert momentum in energy (MeV)\n",
    "for i in range(len(good_momentum)):\n",
    "    energy_vector.append(np.sqrt(pow(good_momentum[i],2)+pow(pion_mass,2))*1000)"
   ]
  },
  {
   "cell_type": "code",
   "execution_count": 35,
   "metadata": {},
   "outputs": [],
   "source": [
    "angle_phi = []\n",
    "####sample angle phi from 0 to 2*np.pi\n",
    "for i in range(len(good_momentum)):\n",
    "    angle_phi.append(uniform(0,2*np.pi))"
   ]
  },
  {
   "cell_type": "code",
   "execution_count": 36,
   "metadata": {},
   "outputs": [],
   "source": [
    "####calculate the SW value for each couple angle-momentum. It will be used as weight\n",
    "sanford_wang = []\n",
    "for i in range(len(good_momentum)):\n",
    "    sanford_wang.append(l_bis(good_angle[i], good_momentum[i]))"
   ]
  },
  {
   "cell_type": "code",
   "execution_count": 43,
   "metadata": {},
   "outputs": [],
   "source": [
    "####if I want to use sanford_wang values as weights and multiply them by the four momenta elements, I need to convert this into\n",
    "####int because you can multiply a list by an integer but not by a float\n",
    "sanford_wang_int = []\n",
    "for i in range(len(good_momentum)):\n",
    "    sanford_wang_int.append(int(sanford_wang[i]))"
   ]
  },
  {
   "cell_type": "code",
   "execution_count": 58,
   "metadata": {},
   "outputs": [],
   "source": [
    "####create the four-momentum vector, where for each pion zero the related sanford-wang value is used as weight\n",
    "four_momenta = None\n",
    "del four_momenta\n",
    "four_momenta = []\n",
    "for i in range(10):\n",
    "    #four_momenta.append(sanford_wang_int[i]*(energy_vector[i],np.cos(angle_phi[i])*np.sin(good_angle[i]),np.sin(angle_phi[i])*np.sin(good_angle[i]),np.cos(good_angle[i])))\n",
    "        four_momenta.append((energy_vector[i],np.cos(angle_phi[i])*np.sin(good_angle[i]),np.sin(angle_phi[i])*np.sin(good_angle[i]),np.cos(good_angle[i])))"
   ]
  },
  {
   "cell_type": "code",
   "execution_count": 59,
   "metadata": {},
   "outputs": [
    {
     "name": "stdout",
     "output_type": "stream",
     "text": [
      "(4075.2145080070727, -0.046891341589002725, 0.03996307936486721, 0.9981002727039306)\n"
     ]
    }
   ],
   "source": [
    "for i in range(1):\n",
    "    print(four_momenta[i])"
   ]
  },
  {
   "cell_type": "code",
   "execution_count": null,
   "metadata": {},
   "outputs": [],
   "source": [
    "four_momenta_weighted = []\n",
    "for y in range(len(sanford_wang)):\n",
    "    four_momenta_weighted.append([i * sanford_wang_int[y] for i in four_momenta])"
   ]
  },
  {
   "cell_type": "code",
   "execution_count": null,
   "metadata": {},
   "outputs": [],
   "source": [
    "for i in range(1):\n",
    "    print(four_momenta_weighted[i])"
   ]
  },
  {
   "cell_type": "code",
   "execution_count": null,
   "metadata": {},
   "outputs": [],
   "source": [
    "###last piece: converting the list into an n-dimensional array that can be downloaded\n",
    "four_momenta_weighted_array=np.ndarray(four_momenta_weighted_array)"
   ]
  },
  {
   "cell_type": "code",
   "execution_count": null,
   "metadata": {},
   "outputs": [],
   "source": []
  },
  {
   "cell_type": "code",
   "execution_count": null,
   "metadata": {},
   "outputs": [],
   "source": []
  },
  {
   "cell_type": "code",
   "execution_count": null,
   "metadata": {},
   "outputs": [],
   "source": [
    "##SANITY CHECK"
   ]
  },
  {
   "cell_type": "code",
   "execution_count": null,
   "metadata": {},
   "outputs": [],
   "source": [
    "####creating SW distribution sampling cos(theta) from -1 to 1 therefore w/o Jacobian"
   ]
  },
  {
   "cell_type": "code",
   "execution_count": 5,
   "metadata": {},
   "outputs": [],
   "source": [
    "#pion plus as double function sampling cosine(theta)\n",
    "#x=cosine y=momentum\n",
    "def j(x,y):\n",
    "    return c_1_plus*pow(y,c_2_plus)*(1-(y/p_beam))*np.exp(-c_3_plus*(pow(y,c_4_plus)/(pow(p_beam,c_5_plus)))-c_6_plus*np.arccos(x)*(y-c_7_plus*p_beam*(pow(x,c_8_plus))))"
   ]
  },
  {
   "cell_type": "code",
   "execution_count": 6,
   "metadata": {},
   "outputs": [],
   "source": [
    "#pion minus as double function sampling cosine(theta)\n",
    "def k(x,y):\n",
    "    return c_1_minus*pow(y,c_2_minus)*(1-(y/p_beam))*np.exp(-c_3_minus*(pow(y,c_4_minus)/(pow(p_beam,c_5_minus)))-c_6_minus*np.arccos(x)*(y-c_7_minus*p_beam*(pow(x,c_8_minus))))"
   ]
  },
  {
   "cell_type": "code",
   "execution_count": 7,
   "metadata": {},
   "outputs": [],
   "source": [
    "#pion zero as double function sampling cosine(theta)\n",
    "def l(x,y):\n",
    "    return (j(x,y)+k(x,y))/2"
   ]
  },
  {
   "cell_type": "code",
   "execution_count": null,
   "metadata": {},
   "outputs": [],
   "source": [
    "###in oder to use rejection sampling, I must find the maximum of the Sanford-Wang distribution. \n",
    "### I will create number_max couples of randomly picked cosine and momenta and see which is the highest value of SW I can get\n",
    "#### that will be my sw_max"
   ]
  },
  {
   "cell_type": "code",
   "execution_count": 8,
   "metadata": {},
   "outputs": [],
   "source": [
    "cosine_max = []\n",
    "momentum_max = []\n",
    "number_max = 10000000 #10 millions\n",
    "\n",
    "for i in range (number_max):\n",
    "    cosine_max.append(uniform(0,1))\n",
    "    momentum_max.append(uniform(0,8))\n"
   ]
  },
  {
   "cell_type": "code",
   "execution_count": 9,
   "metadata": {},
   "outputs": [
    {
     "name": "stdout",
     "output_type": "stream",
     "text": [
      "0.5149165798044882   7.763958943640166   4.5791185114996725e-17\n",
      "0.3643753310735257   2.4692826736720486   5.916479314974778e-05\n",
      "0.7840942165193917   0.6577865531900802   15.944438858591578\n",
      "0.6514507119347519   1.8654033435254869   0.056742246841707956\n",
      "0.5059218371291706   7.340271855605311   4.322602521540383e-16\n",
      "0.929573629791084   7.7241411326689855   4.2405008963076e-06\n",
      "0.5668077187128227   5.709411598803481   4.625875707684577e-11\n",
      "0.455701818169978   0.8959042253582616   0.9448483594742907\n",
      "0.02497680022843285   4.471612693964931   1.2921189059880257e-13\n",
      "0.6942911993804313   0.1888693560349184   19.9041653397406\n"
     ]
    }
   ],
   "source": [
    "for i in range(10):\n",
    "    print(cosine_max[i],\" \",momentum_max[i],\" \",l(cosine_max[i],momentum_max[i]))"
   ]
  },
  {
   "cell_type": "code",
   "execution_count": 10,
   "metadata": {},
   "outputs": [],
   "source": [
    "sw_max_list = []\n",
    "for i in range (number_max):\n",
    "    sw_max_list.append(l(cosine_max[i],momentum_max[i]))"
   ]
  },
  {
   "cell_type": "code",
   "execution_count": 11,
   "metadata": {},
   "outputs": [
    {
     "name": "stdout",
     "output_type": "stream",
     "text": [
      "218.6201113100887\n"
     ]
    }
   ],
   "source": [
    "sw_max=max(sw_max_list)\n",
    "print(sw_max)"
   ]
  },
  {
   "cell_type": "code",
   "execution_count": 12,
   "metadata": {},
   "outputs": [],
   "source": [
    "###clear memory from lists I am not using again\n",
    "\n",
    "cosine_max = None\n",
    "del cosine_max\n",
    "momentum_max = None\n",
    "del momentum_max\n",
    "sw_max_list = None\n",
    "del sw_max_list"
   ]
  },
  {
   "cell_type": "code",
   "execution_count": 13,
   "metadata": {},
   "outputs": [],
   "source": [
    "####this is without Jacobian, sampling from cosine, and in MeV\n",
    "zero_and_one = None\n",
    "del zero_and_one\n",
    "random_cosine = None\n",
    "del random_cosine\n",
    "random_momentum = None\n",
    "del random_momentum\n",
    "good_cosine = None\n",
    "del good_cosine\n",
    "good_momentum = None\n",
    "del good_momentum\n",
    "\n",
    "number = 100000000 #10 millions\n",
    "zero_and_one = [number]\n",
    "zero_and_one = np.random.random(number)\n",
    "random_cosine = []\n",
    "random_momentum = []\n",
    "good_cosine = []\n",
    "good_momentum = []\n",
    "\n",
    "for i in range (number):\n",
    "    random_cosine.append(uniform(0,1))\n",
    "    random_momentum.append(uniform(0,8))\n",
    "    if l(random_cosine[i], random_momentum[i])>zero_and_one[i]*sw_max:\n",
    "        good_cosine.append(random_cosine[i])\n",
    "        good_momentum.append(random_momentum[i])"
   ]
  },
  {
   "cell_type": "code",
   "execution_count": 14,
   "metadata": {},
   "outputs": [
    {
     "name": "stdout",
     "output_type": "stream",
     "text": [
      "1409030\n"
     ]
    }
   ],
   "source": [
    "print(len(good_momentum))"
   ]
  },
  {
   "cell_type": "code",
   "execution_count": 15,
   "metadata": {},
   "outputs": [
    {
     "data": {
      "image/png": "[encoded data removed]",
      "text/plain": [
       "<Figure size 1440x1152 with 2 Axes>"
      ]
     },
     "metadata": {
      "needs_background": "light"
     },
     "output_type": "display_data"
    }
   ],
   "source": [
    "from matplotlib import cm\n",
    "plt.figure(figsize=(20,16))\n",
    "h = plt.hist2d(good_momentum, good_cosine, bins=[110,110],cmin=0.000001,cmap='jet')\n",
    "plt.colorbar(h[3])\n",
    "plt.title(\"SW Distribution for Pion Zero\",fontsize=22)\n",
    "plt.xlabel(\"Momentum (GeV/c)\",fontsize=22)\n",
    "plt.ylabel(\"Cosine\",fontsize=22)\n",
    "plt.xticks(fontsize=20)\n",
    "plt.yticks(fontsize=20)\n",
    "plt.show()"
   ]
  }
 ],
 "metadata": {
  "kernelspec": {
   "display_name": "Python 3",
   "language": "python",
   "name": "python3"
  },
  "language_info": {
   "codemirror_mode": {
    "name": "ipython",
    "version": 3
   },
   "file_extension": ".py",
   "mimetype": "text/x-python",
   "name": "python",
   "nbconvert_exporter": "python",
   "pygments_lexer": "ipython3",
   "version": "3.7.7"
  }
 },
 "nbformat": 4,
 "nbformat_minor": 4
}
