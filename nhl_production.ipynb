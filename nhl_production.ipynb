{
 "cells": [
  {
   "cell_type": "code",
   "execution_count": 1,
   "metadata": {},
   "outputs": [],
   "source": [
    "import matplotlib.pyplot as plt\n",
    "import numpy as np"
   ]
  },
  {
   "cell_type": "code",
   "execution_count": 2,
   "metadata": {},
   "outputs": [],
   "source": [
    "m_pion = 135\n",
    "alpha = 1/137\n",
    "dipole = pow(10,-9)\n",
    "capital_f = 1/(4*np.pi*92)\n",
    "m_nhl = 50\n",
    "factor = -((1/(2*np.pi*m_pion))*pow(alpha,2)*pow(dipole,2)*pow(capital_f,2))"
   ]
  },
  {
   "cell_type": "code",
   "execution_count": 3,
   "metadata": {},
   "outputs": [
    {
     "name": "stdout",
     "output_type": "stream",
     "text": [
      "-4.6994804374214176e-32\n"
     ]
    }
   ],
   "source": [
    "print(factor)"
   ]
  },
  {
   "cell_type": "code",
   "execution_count": 4,
   "metadata": {},
   "outputs": [],
   "source": [
    "def f(x):\n",
    "    return factor*((np.sqrt(pow(x,2)-pow(m_nhl,2)))*(4*pow(x,2)*pow(m_pion,2)-3*x*m_pion*pow(m_nhl,2)-2*x*pow(m_pion,3)+pow(m_nhl,4)+3*pow(m_pion,2)*pow(m_nhl,2))-pow(m_pion,2)*(4*x-m_pion)*pow(m_nhl,2)*np.arctanh((np.sqrt(pow(x,2)-pow(m_nhl,2)))/x))"
   ]
  },
  {
   "cell_type": "code",
   "execution_count": 5,
   "metadata": {},
   "outputs": [],
   "source": [
    "x_plot = np.arange(50,100,0.01)"
   ]
  },
  {
   "cell_type": "code",
   "execution_count": 10,
   "metadata": {},
   "outputs": [
    {
     "name": "stdout",
     "output_type": "stream",
     "text": [
      "[52.]\n"
     ]
    },
    {
     "name": "stderr",
     "output_type": "stream",
     "text": [
      "C:\\Users\\Stefano\\Anaconda3\\envs\\edge_tpu\\lib\\site-packages\\ipykernel_launcher.py:2: RuntimeWarning: invalid value encountered in sqrt\n",
      "  \n"
     ]
    }
   ],
   "source": [
    "import scipy\n",
    "from scipy import optimize\n",
    "\n",
    "from scipy.optimize import fsolve\n",
    "x = fsolve(f,52)\n",
    "print(x)"
   ]
  },
  {
   "cell_type": "code",
   "execution_count": null,
   "metadata": {},
   "outputs": [],
   "source": [
    "print(len(x_plot))"
   ]
  },
  {
   "cell_type": "code",
   "execution_count": null,
   "metadata": {},
   "outputs": [],
   "source": [
    "for i in range (len(x_plot)):\n",
    "    if f(x_plot[i])<0:\n",
    "        print(x_plot[i])"
   ]
  },
  {
   "cell_type": "code",
   "execution_count": null,
   "metadata": {},
   "outputs": [],
   "source": [
    "plt.figure(figsize=(20,10))\n",
    "#plt.plot(x_plot,pion_plus_bis,'r',label='pion plus MC Integration')\n",
    "#plt.plot(x_plot,pion_minus_bis,'-b',label='pion minus MC Integration')\n",
    "plt.plot(x_plot,f(x_plot),'g',label='Equation A. 10')\n",
    "plt.legend(loc=\"upper right\",prop={'size': 30})\n",
    "plt.xlabel(\"Energy of NHL in Pion Zero Rest Frame [MeV]\",fontsize=22)\n",
    "plt.ylabel(\"Counts\",fontsize=22)\n",
    "plt.xticks(fontsize=20)\n",
    "plt.yticks(fontsize=20)\n",
    "plt.show()"
   ]
  },
  {
   "cell_type": "code",
   "execution_count": null,
   "metadata": {},
   "outputs": [],
   "source": []
  }
 ],
 "metadata": {
  "kernelspec": {
   "display_name": "Python 3",
   "language": "python",
   "name": "python3"
  },
  "language_info": {
   "codemirror_mode": {
    "name": "ipython",
    "version": 3
   },
   "file_extension": ".py",
   "mimetype": "text/x-python",
   "name": "python",
   "nbconvert_exporter": "python",
   "pygments_lexer": "ipython3",
   "version": "3.7.7"
  }
 },
 "nbformat": 4,
 "nbformat_minor": 4
}
